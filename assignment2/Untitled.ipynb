{
 "cells": [
  {
   "cell_type": "code",
   "execution_count": null,
   "metadata": {},
   "outputs": [],
   "source": [
    "from sklearn import preprocessing\n",
    "import pandas as pd\n",
    "import numpy as np\n",
    "from sklearn.tree import DecisionTreeRegressor\n"
   ]
  },
  {
   "cell_type": "code",
   "execution_count": null,
   "metadata": {},
   "outputs": [],
   "source": [
    "data = pd.read_csv(\"Carseats.csv\")\n",
    "\n",
    "d_x = data.iloc[:,1:]\n",
    "d_y = data.iloc[:,0]\n",
    "\n",
    "x_train = d_x[:300,:]\n",
    "y_train = d_y[:300,:]\n",
    "\n",
    "x_test = d_x[300:,:]\n",
    "y_test = d_y[300:,:]"
   ]
  }
 ],
 "metadata": {
  "kernelspec": {
   "display_name": "ML",
   "language": "python",
   "name": "ml"
  },
  "language_info": {
   "name": ""
  }
 },
 "nbformat": 4,
 "nbformat_minor": 4
}
