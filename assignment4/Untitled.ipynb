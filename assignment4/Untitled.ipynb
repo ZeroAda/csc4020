{
 "cells": [
  {
   "cell_type": "code",
   "execution_count": 29,
   "metadata": {},
   "outputs": [],
   "source": [
    "import pandas as pd"
   ]
  },
  {
   "cell_type": "code",
   "execution_count": 50,
   "metadata": {},
   "outputs": [],
   "source": [
    "from pgmpy.models import BayesianModel\n",
    "from pgmpy.estimators import BayesianEstimator\n",
    "\n",
    "model = BayesianModel([('V', 'R'), ('G', 'R'),('G','S')])\n"
   ]
  },
  {
   "cell_type": "code",
   "execution_count": 51,
   "metadata": {},
   "outputs": [],
   "source": [
    "from pgmpy.factors.discrete import TabularCPD\n",
    "r_cpd= TabularCPD(variable='R', variable_card=2,\n",
    "                      values=[[0.6,0.3,0.2,0.1], [0.4,0.7,0.8,0.9]],\n",
    "                      evidence=['V','G'], evidence_card=[2,2])\n",
    "\n",
    "model.add_cpds(r_cpd)\n"
   ]
  },
  {
   "cell_type": "code",
   "execution_count": 52,
   "metadata": {},
   "outputs": [
    {
     "name": "stderr",
     "output_type": "stream",
     "text": [
      "WARNING:root:Replacing existing CPD for R\n"
     ]
    }
   ],
   "source": [
    "data = pd.DataFrame(data={'V': [1,1,1], 'G': [1,1,0], 'R': [1,0,0],'S':[1,1,0]})\n",
    "# estimator = BayesianEstimator(model, data)\n",
    "# cpd_C = estimator.estimate_cpd('V', prior_type=\"dirichlet\", pseudo_counts=[1, 2])\n",
    "# model.add_cpds(cpd_C)\n",
    "\n",
    "model.fit(data, estimator=BayesianEstimator, prior_type=\"BDeu\")"
   ]
  },
  {
   "cell_type": "code",
   "execution_count": 53,
   "metadata": {},
   "outputs": [
    {
     "name": "stdout",
     "output_type": "stream",
     "text": [
      "['V', 'R', 'G', 'S']\n"
     ]
    }
   ],
   "source": [
    "print(model.nodes())"
   ]
  },
  {
   "cell_type": "code",
   "execution_count": 54,
   "metadata": {},
   "outputs": [
    {
     "name": "stdout",
     "output_type": "stream",
     "text": [
      "[('V', 'R'), ('G', 'R'), ('G', 'S')]\n"
     ]
    }
   ],
   "source": [
    "print(model.edges())"
   ]
  },
  {
   "cell_type": "code",
   "execution_count": 58,
   "metadata": {},
   "outputs": [
    {
     "name": "stdout",
     "output_type": "stream",
     "text": [
      "+------+---------------------+------+\n",
      "| G    | G(0)                | G(1) |\n",
      "+------+---------------------+------+\n",
      "| V    | V(1)                | V(1) |\n",
      "+------+---------------------+------+\n",
      "| R(0) | 0.6428571428571429  | 0.5  |\n",
      "+------+---------------------+------+\n",
      "| R(1) | 0.35714285714285715 | 0.5  |\n",
      "+------+---------------------+------+\n"
     ]
    }
   ],
   "source": [
    "print(model.get_cpds('R'))"
   ]
  },
  {
   "cell_type": "code",
   "execution_count": 62,
   "metadata": {},
   "outputs": [
    {
     "ename": "ValueError",
     "evalue": "No CPD associated with Pollution",
     "output_type": "error",
     "traceback": [
      "\u001b[1;31m---------------------------------------------------------------------------\u001b[0m",
      "\u001b[1;31mValueError\u001b[0m                                Traceback (most recent call last)",
      "\u001b[1;32m<ipython-input-62-0047c02160a2>\u001b[0m in \u001b[0;36m<module>\u001b[1;34m\u001b[0m\n\u001b[0;32m      9\u001b[0m \u001b[1;33m\u001b[0m\u001b[0m\n\u001b[0;32m     10\u001b[0m \u001b[1;31m# 执行检查（可选，用于检查cpd是否填错）\u001b[0m\u001b[1;33m\u001b[0m\u001b[1;33m\u001b[0m\u001b[1;33m\u001b[0m\u001b[0m\n\u001b[1;32m---> 11\u001b[1;33m \u001b[0mcancer_model\u001b[0m\u001b[1;33m.\u001b[0m\u001b[0mcheck_model\u001b[0m\u001b[1;33m(\u001b[0m\u001b[1;33m)\u001b[0m\u001b[1;33m\u001b[0m\u001b[1;33m\u001b[0m\u001b[0m\n\u001b[0m",
      "\u001b[1;32m~\\anaconda3\\envs\\ML\\lib\\site-packages\\pgmpy\\models\\BayesianModel.py\u001b[0m in \u001b[0;36mcheck_model\u001b[1;34m(self)\u001b[0m\n\u001b[0;32m    385\u001b[0m \u001b[1;33m\u001b[0m\u001b[0m\n\u001b[0;32m    386\u001b[0m             \u001b[1;32mif\u001b[0m \u001b[0mcpd\u001b[0m \u001b[1;32mis\u001b[0m \u001b[1;32mNone\u001b[0m\u001b[1;33m:\u001b[0m\u001b[1;33m\u001b[0m\u001b[1;33m\u001b[0m\u001b[0m\n\u001b[1;32m--> 387\u001b[1;33m                 \u001b[1;32mraise\u001b[0m \u001b[0mValueError\u001b[0m\u001b[1;33m(\u001b[0m\u001b[1;34mf\"No CPD associated with {node}\"\u001b[0m\u001b[1;33m)\u001b[0m\u001b[1;33m\u001b[0m\u001b[1;33m\u001b[0m\u001b[0m\n\u001b[0m\u001b[0;32m    388\u001b[0m             \u001b[1;32melif\u001b[0m \u001b[0misinstance\u001b[0m\u001b[1;33m(\u001b[0m\u001b[0mcpd\u001b[0m\u001b[1;33m,\u001b[0m \u001b[1;33m(\u001b[0m\u001b[0mTabularCPD\u001b[0m\u001b[1;33m,\u001b[0m \u001b[0mContinuousFactor\u001b[0m\u001b[1;33m)\u001b[0m\u001b[1;33m)\u001b[0m\u001b[1;33m:\u001b[0m\u001b[1;33m\u001b[0m\u001b[1;33m\u001b[0m\u001b[0m\n\u001b[0;32m    389\u001b[0m                 \u001b[0mevidence\u001b[0m \u001b[1;33m=\u001b[0m \u001b[0mcpd\u001b[0m\u001b[1;33m.\u001b[0m\u001b[0mget_evidence\u001b[0m\u001b[1;33m(\u001b[0m\u001b[1;33m)\u001b[0m\u001b[1;33m\u001b[0m\u001b[1;33m\u001b[0m\u001b[0m\n",
      "\u001b[1;31mValueError\u001b[0m: No CPD associated with Pollution"
     ]
    }
   ],
   "source": [
    "from pgmpy.factors.discrete import TabularCPD\n",
    "model = BayesianModel([('Age', 'Survived'), ('Sex', 'Survived'),('Fare','Pclass'),('Pclass','Survived'),('Cabin','Survived')])\n",
    "#构建cpd表\n",
    "my_cpd= TabularCPD(variable='Pclass', variable_card=3,\n",
    "                      values=[[0.65, 0.3], [0.30, 0.6],[0.05,0.1]],\n",
    "                      evidence=['Fare'], evidence_card=[2])\n",
    "# 填cpd表\n",
    "model.add_cpds(my_cpd)\n",
    "\n",
    "# 执行检查（可选，用于检查cpd是否填错）\n",
    "cancer_model.check_model()"
   ]
  },
  {
   "cell_type": "code",
   "execution_count": null,
   "metadata": {},
   "outputs": [],
   "source": []
  },
  {
   "cell_type": "code",
   "execution_count": null,
   "metadata": {},
   "outputs": [],
   "source": []
  }
 ],
 "metadata": {
  "kernelspec": {
   "display_name": "ML",
   "language": "python",
   "name": "ml"
  },
  "language_info": {
   "codemirror_mode": {
    "name": "ipython",
    "version": 3
   },
   "file_extension": ".py",
   "mimetype": "text/x-python",
   "name": "python",
   "nbconvert_exporter": "python",
   "pygments_lexer": "ipython3",
   "version": "3.7.9"
  }
 },
 "nbformat": 4,
 "nbformat_minor": 4
}
